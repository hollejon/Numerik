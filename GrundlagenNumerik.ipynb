{
 "cells": [
  {
   "cell_type": "markdown",
   "metadata": {},
   "source": [
    "# Grundlagen der Numerik"
   ]
  },
  {
   "cell_type": "markdown",
   "metadata": {},
   "source": [
    "## Lernziele"
   ]
  },
  {
   "cell_type": "markdown",
   "metadata": {},
   "source": [
    "1. Sie kennen die unterschiedlichen Fehlerarten, welche in der Numerik zum Tragen kommen.\n",
    "2. Sie kennen Differenzenquotienten zur Approximation von Ableitungen unterschiedlicher Ordnung.\n",
    "3. Sie können die Fehlerordnung eines Differenzenquotienten experimentell und analytisch bestimmen.\n",
    "4. Sie können die optimale Schrittweite eines Differenzenquotienten experimentell bestimmen."
   ]
  },
  {
   "cell_type": "markdown",
   "metadata": {},
   "source": [
    "## Theorie"
   ]
  },
  {
   "cell_type": "markdown",
   "metadata": {},
   "source": [
    "**Differenzenquotienten zur Approximation von Ableitungen**  \n",
    "\n",
    "Bei der numerischen Ableitung einer Funktion $f(x)=y$ an eienr Stelle $x_0 \\in D_f$ wird der Grenzwert\n",
    "\n",
    "$$f'(x_0)=\\lim\\limits_{h \\rightarrow 0} \\frac{f(x_0+h)-f(x_0)}{h}$$\n",
    "\n",
    "durch die Sekantensteigung ersetzt\n",
    "\n",
    "$$f'(x_0) \\approx \\frac{f(x_0+h)-f(x_0)}{h}$$\n",
    "\n",
    "$h>0$ nennen wir die Schrittweite. \n",
    "\n",
    "Wir bestimmen die Fehlerordnung des mathematischen Verfahrens mit Hilfe der Taylorreihenentwicklung von $f$:\n",
    "\n",
    "$$f(x_0+h) = f(x_0) + f'(x_0)h + \\frac{f''(x_0)}{2}h^2 + \\frac{f^{(3)}(x_0)}{6}h^3 + {\\cal O}(h^4)$$\n",
    "\n",
    "Durch Umformen dieser Gleichung erhalten wir  \n",
    "\n",
    "$$\\frac{f(x_0+h)-f(x_0)}{h} - f'(x_0) = \\frac{f''(x_0)}{2}h + \\frac{f^{(3)}(x_0)}{6}h^2 + {\\cal O}(h^3) = {\\cal O}(h)$$\n",
    "\n",
    "Somit hat der Vorwärts-Differenzenquotient $\\displaystyle{\\Delta_{h\\rightarrow}^1=\\frac{f(x_0+h)-f(x_0)}{h}}$ die Fehlerordnung 1, d.h. der Fehler hängt linear von der Schrittweite ab.  \n",
    "\n",
    "Weitere Differenzenquotienten für die Approximation der ersten Ableitung sind  \n",
    "\n",
    "- Rückwärts-Differenzenquotient: $\\displaystyle{\\Delta_{h\\leftarrow}^1=\\frac{f(x_0)-f(x_0-h)}{h}}$ mit Fehlerordnung 1 und  \n",
    "- zentraler Differenzenquotient: $\\displaystyle{\\Delta_{2h}^1=\\frac{f(x_0+h)-f(x_0-h)}{2h}}$ mit Fehlerordnung 2.  \n",
    "\n",
    "Das folgende Beispiel zeigt, dass neben dem Verfahrensfehler eine **weitere Fehlerart** zu berücksichtigen ist:"
   ]
  },
  {
   "cell_type": "code",
   "execution_count": null,
   "metadata": {},
   "outputs": [
    {
     "ename": "",
     "evalue": "",
     "output_type": "error",
     "traceback": [
      "\u001b[1;31mRunning cells with 'c:\\msys64\\mingw64\\bin\\python.exe' requires the ipykernel package.\n",
      "\u001b[1;31mRun the following command to install 'ipykernel' into the Python environment. \n",
      "\u001b[1;31mCommand: 'c:/msys64/mingw64/bin/python.exe -m pip install ipykernel -U --user --force-reinstall'"
     ]
    }
   ],
   "source": [
    "import numpy as np\n",
    "import matplotlib.pyplot as plt"
   ]
  },
  {
   "cell_type": "markdown",
   "metadata": {},
   "source": [
    "Wir betrachten die Funktion\n",
    "$$f(x) = \\cos(x)$$"
   ]
  },
  {
   "cell_type": "code",
   "execution_count": null,
   "metadata": {},
   "outputs": [
    {
     "ename": "",
     "evalue": "",
     "output_type": "error",
     "traceback": [
      "\u001b[1;31mRunning cells with 'c:\\msys64\\mingw64\\bin\\python.exe' requires the ipykernel package.\n",
      "\u001b[1;31mRun the following command to install 'ipykernel' into the Python environment. \n",
      "\u001b[1;31mCommand: 'c:/msys64/mingw64/bin/python.exe -m pip install ipykernel -U --user --force-reinstall'"
     ]
    }
   ],
   "source": [
    "def f(x):\n",
    "    return np.cos(x)"
   ]
  },
  {
   "cell_type": "markdown",
   "metadata": {},
   "source": [
    "im Punkt\n",
    "$$x_0=1.$$"
   ]
  },
  {
   "cell_type": "code",
   "execution_count": null,
   "metadata": {},
   "outputs": [
    {
     "ename": "",
     "evalue": "",
     "output_type": "error",
     "traceback": [
      "\u001b[1;31mRunning cells with 'c:\\msys64\\mingw64\\bin\\python.exe' requires the ipykernel package.\n",
      "\u001b[1;31mRun the following command to install 'ipykernel' into the Python environment. \n",
      "\u001b[1;31mCommand: 'c:/msys64/mingw64/bin/python.exe -m pip install ipykernel -U --user --force-reinstall'"
     ]
    }
   ],
   "source": [
    "x0 = 1"
   ]
  },
  {
   "cell_type": "markdown",
   "metadata": {},
   "source": [
    "Wir berechnen nun die Differenzenquotienten mit unterschiedlichen Schrittweiten:"
   ]
  },
  {
   "cell_type": "code",
   "execution_count": null,
   "metadata": {},
   "outputs": [
    {
     "ename": "",
     "evalue": "",
     "output_type": "error",
     "traceback": [
      "\u001b[1;31mRunning cells with 'c:\\msys64\\mingw64\\bin\\python.exe' requires the ipykernel package.\n",
      "\u001b[1;31mRun the following command to install 'ipykernel' into the Python environment. \n",
      "\u001b[1;31mCommand: 'c:/msys64/mingw64/bin/python.exe -m pip install ipykernel -U --user --force-reinstall'"
     ]
    }
   ],
   "source": [
    "# exakter Wert der Ableitung\n",
    "y = -np.sin(1)\n",
    "\n",
    "DeltaRechts = []\n",
    "DeltaLinks = []\n",
    "DeltaZentral = []\n",
    "Hs = 10.**np.arange(-20,-1) # logarithmische Schrittweite\n",
    "\n",
    "for h in Hs:\n",
    "    # Fehler des rechtsseitigen Differenzenquotient\n",
    "    DeltaRechts.append(np.abs(y-(f(x0+h)-f(x0))/h))\n",
    "    \n",
    "    # Fehler des linksseitigen Differenzenquotient\n",
    "    #DeltaLinks.append(<<snipp selber machen>>)\n",
    "    \n",
    "    # Fehler des zentralen Differenzenquotient\n",
    "    #DeltaZentral.append(<<snipp selber machen>>)"
   ]
  },
  {
   "cell_type": "markdown",
   "metadata": {},
   "source": [
    "Für die Analyse betrachten die Logarithmische Darstellung:"
   ]
  },
  {
   "cell_type": "code",
   "execution_count": null,
   "metadata": {},
   "outputs": [
    {
     "ename": "",
     "evalue": "",
     "output_type": "error",
     "traceback": [
      "\u001b[1;31mRunning cells with 'c:\\msys64\\mingw64\\bin\\python.exe' requires the ipykernel package.\n",
      "\u001b[1;31mRun the following command to install 'ipykernel' into the Python environment. \n",
      "\u001b[1;31mCommand: 'c:/msys64/mingw64/bin/python.exe -m pip install ipykernel -U --user --force-reinstall'"
     ]
    }
   ],
   "source": [
    "plt.loglog(Hs,DeltaRechts,'o-',label='Vorwaertsdifferenzenquotient')\n",
    "# die beiden folgenden Zeilen können Sie nach dem Implementieren\n",
    "# der weiteren Differenzenquotienten aktivieren\n",
    "#plt.loglog(Hs,DeltaLinks,'.-',label='Rueckwaertsdifferenzenquotient')\n",
    "#plt.loglog(Hs,DeltaZentral,'.-',label='zentraler DiffQuotient')\n",
    "plt.xlabel('Schrittweite')\n",
    "plt.ylabel('absoluterFehler')\n",
    "plt.title('Fehlerentwicklung der Differenzenquotienten fuer h->0')\n",
    "plt.legend()\n",
    "plt.grid()\n",
    "plt.show()"
   ]
  },
  {
   "cell_type": "markdown",
   "metadata": {},
   "source": [
    "## Auftr&auml;ge\n",
    "\n",
    "1. Analysieren Sie das Ergebnisse des obigen Beispiels. Welche Fehlerarten sind hier zu beobachten? Was folgern Sie daraus?\n",
    "\n",
    "2. Implementieren Sie die Berechnung des Rueckwaerts- und zentralen Differenzenquotienten.\n",
    "\n",
    "3. Leiten Sie mit Hilfe der Taylorreihe die Fehlerordnung für den zentralen Differenzenquotienten her (analog zur Einführung). \n",
    "\n",
    "4. Effiziente Programmierung in Skript-Sprachen: Wie könnte man die obige for-Schleife vermeiden?"
   ]
  },
  {
   "cell_type": "markdown",
   "metadata": {},
   "source": [
    "## Abgabe\n",
    "\n",
    "\n",
    "Bitte geben Sie Ihre Lösungen bis spätestens vor dem nächsten Praktikum 2 ab."
   ]
  }
 ],
 "metadata": {
  "kernelspec": {
   "display_name": "Python 3 (ipykernel)",
   "language": "python",
   "name": "python3"
  },
  "language_info": {
   "codemirror_mode": {
    "name": "ipython",
    "version": 3
   },
   "file_extension": ".py",
   "mimetype": "text/x-python",
   "name": "python",
   "nbconvert_exporter": "python",
   "pygments_lexer": "ipython3",
   "version": "3.10.8"
  }
 },
 "nbformat": 4,
 "nbformat_minor": 4
}
