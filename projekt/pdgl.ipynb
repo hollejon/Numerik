{
 "cells": [
  {
   "cell_type": "markdown",
   "metadata": {},
   "source": [
    "# FTCS"
   ]
  },
  {
   "cell_type": "code",
   "execution_count": 3,
   "metadata": {},
   "outputs": [
    {
     "name": "stdout",
     "output_type": "stream",
     "text": [
      "[[1. 0. 0. 0. 0.]\n",
      " [1. 1. 0. 0. 0.]\n",
      " [1. 1. 1. 0. 0.]\n",
      " [1. 1. 1. 1. 0.]\n",
      " [1. 1. 1. 1. 1.]]\n"
     ]
    }
   ],
   "source": [
    "import numpy as np\n",
    "import matplotlib.pyplot as plt\n",
    "\n",
    "\n",
    "a = 3.8*10**-6    # Temperaturleitfähigkeit in m^2/s\n",
    "Tr =100\n",
    "Tl = 0            # Temperatur\n",
    "\n",
    "\n",
    "\n",
    "A1 = np.zeros((J, J))\n",
    " \n",
    "for i in range(0,J-1):\n",
    "    A1[i,i] = -2\n",
    "    A1[i+1,i] = 1\n",
    "    A1[i,i+1] = 1\n",
    "A1[J-1,J-1] = -2\n",
    "A1[J-1,J-2] = 2\n",
    "print(A1)\n",
    " \n",
    "v = np.zeros(J)\n",
    "v[0] = Tl/h**2\n",
    "v[J-1] = Tr/h**2\n",
    "\n",
    "\n",
    "print(A1)\n"
   ]
  }
 ],
 "metadata": {
  "kernelspec": {
   "display_name": "Python 3",
   "language": "python",
   "name": "python3"
  },
  "language_info": {
   "codemirror_mode": {
    "name": "ipython",
    "version": 3
   },
   "file_extension": ".py",
   "mimetype": "text/x-python",
   "name": "python",
   "nbconvert_exporter": "python",
   "pygments_lexer": "ipython3",
   "version": "3.11.8"
  }
 },
 "nbformat": 4,
 "nbformat_minor": 2
}
