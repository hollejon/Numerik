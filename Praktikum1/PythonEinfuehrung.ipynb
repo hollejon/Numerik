{
 "cells": [
  {
   "cell_type": "markdown",
   "id": "44ea9322",
   "metadata": {},
   "source": [
    "# Einführung in Python3"
   ]
  },
  {
   "cell_type": "markdown",
   "id": "62ef19b9",
   "metadata": {},
   "source": [
    "## Lernziele"
   ]
  },
  {
   "cell_type": "markdown",
   "id": "ee31be6e",
   "metadata": {},
   "source": [
    "1. Sie haben eine funktionierende python3 Installation und können jupyter-notebooks benutzen.\n",
    "2. Sie sind mit der grundlegenden python3 Funktionalität vertraut."
   ]
  },
  {
   "cell_type": "markdown",
   "id": "46916725",
   "metadata": {},
   "source": [
    "## Aufträge"
   ]
  },
  {
   "attachments": {},
   "cell_type": "markdown",
   "id": "e0000dfa",
   "metadata": {},
   "source": [
    "1. Installieren Sie (falls nicht schon lange geschehen) python3, numpy, scipy, matplotlib und jupyter.\n",
    "2. Erarbeiten Sie das [Einführungsbeispiel](../../introduction/einfuehrungpython.ipynb).\n",
    "3. Vervollständigen Sie das vorliegende Jupyter-Notebook."
   ]
  },
  {
   "cell_type": "markdown",
   "id": "728203c2",
   "metadata": {},
   "source": [
    "## Aufgaben"
   ]
  },
  {
   "cell_type": "markdown",
   "id": "872318eb",
   "metadata": {},
   "source": [
    "### 1. Aufgabe"
   ]
  },
  {
   "cell_type": "markdown",
   "id": "35724ff0",
   "metadata": {},
   "source": [
    "Erstellen Sie einen Graph der Funktion\n",
    "\n",
    "$$f(x) = e^{-x^2/\\sigma}$$\n",
    "\n",
    "für $\\sigma \\in \\{1/4,1/3,1/2\\}$ inkl. Achsbeschriftung und Labels für $x\\in [-2,2]$."
   ]
  },
  {
   "cell_type": "code",
   "execution_count": null,
   "id": "b714e28a",
   "metadata": {},
   "outputs": [],
   "source": [
    "Fuck"
   ]
  },
  {
   "cell_type": "markdown",
   "id": "7fb2feee",
   "metadata": {},
   "source": [
    "### 2. Aufgabe"
   ]
  },
  {
   "cell_type": "markdown",
   "id": "9c8f4a52",
   "metadata": {},
   "source": [
    "1. Programmieren Sie eine effiziente Funktion, welche die geometrische Folge\n",
    "\n",
    "   $$x_n = \\{q^k\\}_{k=0}^n$$\n",
    "\n",
    "   für ein gegebenes $q$ und $n$ berechnet. Definieren Sie den Parameter $n$ mit dem Default-Wert 10.\n",
    "   \n",
    "2. Berechnen Sie das Skalarprodukt der beiden Vektoren gegeben durch die Folgen $\\{0.5^k\\}_{k=0}^{10}$ und $\\{2^k\\}_{k=0}^{10}$"
   ]
  },
  {
   "cell_type": "code",
   "execution_count": null,
   "id": "beb9faf8",
   "metadata": {},
   "outputs": [],
   "source": []
  },
  {
   "cell_type": "markdown",
   "id": "7234233e",
   "metadata": {},
   "source": [
    "### 3. Aufgabe"
   ]
  },
  {
   "cell_type": "markdown",
   "id": "6e79afa5",
   "metadata": {},
   "source": [
    "Aus der Analysis kennen Sie den Grenzwert der Folge\n",
    "\n",
    "$$\\lim_{k\\to\\infty} \\left(1+\\frac{1}{2^k}\\right)^{2^k} = e.$$\n",
    "\n",
    "* Schreiben Sie ein Programm, welches die Folge berechnet und entscheiden, ob die numerische Berechnung korrekt ist.\n",
    "  - Sie können mit Hilfe von `f = lambda x: x**2` inline Funktionen definieren.\n",
    "* Wie gross kann $k$ gewählt werden?"
   ]
  },
  {
   "cell_type": "code",
   "execution_count": null,
   "id": "6caaf85a",
   "metadata": {},
   "outputs": [],
   "source": []
  }
 ],
 "metadata": {
  "kernelspec": {
   "display_name": "Python 3",
   "language": "python",
   "name": "python3"
  },
  "language_info": {
   "codemirror_mode": {
    "name": "ipython",
    "version": 3
   },
   "file_extension": ".py",
   "mimetype": "text/x-python",
   "name": "python",
   "nbconvert_exporter": "python",
   "pygments_lexer": "ipython3",
   "version": "3.9.6 (default, Oct 18 2022, 12:41:40) \n[Clang 14.0.0 (clang-1400.0.29.202)]"
  },
  "vscode": {
   "interpreter": {
    "hash": "31f2aee4e71d21fbe5cf8b01ff0e069b9275f58929596ceb00d14d90e3e16cd6"
   }
  }
 },
 "nbformat": 4,
 "nbformat_minor": 5
}
