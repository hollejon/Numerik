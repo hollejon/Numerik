{
 "cells": [
  {
   "cell_type": "markdown",
   "metadata": {},
   "source": [
    "#Forewards Kinematics for a 2R robot\n"
   ]
  },
  {
   "cell_type": "code",
   "execution_count": 3,
   "metadata": {},
   "outputs": [
    {
     "name": "stdout",
     "output_type": "stream",
     "text": [
      "[0.09061212 1.82406198]\n"
     ]
    }
   ],
   "source": [
    "import numpy as np\n",
    "from matplotlib import pyplot as plt\n",
    "\n",
    "\n",
    "# foreward kinematics\n",
    "def position(phi1,phi2):\n",
    "    l1 =2\n",
    "    l2=1\n",
    "\n",
    "    pos = np.zeros(2) \n",
    "    pos[1] = l1*np.sin(phi1) + l2*np.sin(phi1+phi2)\n",
    "    pos[0] = l1*np.cos(phi1) + l2*np.cos(phi1+phi2)     \n",
    "    return pos\n",
    "\n",
    "\n",
    "print(position(1,2))    \n"
   ]
  },
  {
   "cell_type": "markdown",
   "metadata": {},
   "source": [
    "invers Kinematics"
   ]
  },
  {
   "cell_type": "code",
   "execution_count": 5,
   "metadata": {},
   "outputs": [
    {
     "ename": "TypeError",
     "evalue": "return arrays must be of ArrayType",
     "output_type": "error",
     "traceback": [
      "\u001b[1;31m---------------------------------------------------------------------------\u001b[0m",
      "\u001b[1;31mTypeError\u001b[0m                                 Traceback (most recent call last)",
      "Cell \u001b[1;32mIn[5], line 29\u001b[0m\n\u001b[0;32m     21\u001b[0m     \u001b[38;5;28mprint\u001b[39m(x)\n\u001b[0;32m     22\u001b[0m     \u001b[38;5;28;01mreturn\u001b[39;00m x\n\u001b[1;32m---> 29\u001b[0m \u001b[43mposition_invers\u001b[49m\u001b[43m(\u001b[49m\u001b[38;5;241;43m1\u001b[39;49m\u001b[43m,\u001b[49m\u001b[38;5;241;43m2\u001b[39;49m\u001b[43m)\u001b[49m\n\u001b[0;32m     31\u001b[0m \u001b[38;5;66;03m# Jacobean\u001b[39;00m\n",
      "Cell \u001b[1;32mIn[5], line 12\u001b[0m, in \u001b[0;36mposition_invers\u001b[1;34m(phi1, phi2)\u001b[0m\n\u001b[0;32m     10\u001b[0m \u001b[38;5;28;01mwhile\u001b[39;00m k\u001b[38;5;241m<\u001b[39mK:\n\u001b[0;32m     11\u001b[0m     k \u001b[38;5;241m=\u001b[39m k\u001b[38;5;241m+\u001b[39m\u001b[38;5;241m1\u001b[39m\n\u001b[1;32m---> 12\u001b[0m     J \u001b[38;5;241m=\u001b[39m np\u001b[38;5;241m.\u001b[39marray([[ \u001b[38;5;241m-\u001b[39ml1\u001b[38;5;241m*\u001b[39mnp\u001b[38;5;241m.\u001b[39msin(phi1)\u001b[38;5;241m-\u001b[39ml2\u001b[38;5;241m*\u001b[39mnp\u001b[38;5;241m.\u001b[39msin(phi1\u001b[38;5;241m+\u001b[39mphi2), \u001b[38;5;241m-\u001b[39ml2\u001b[38;5;241m*\u001b[39mnp\u001b[38;5;241m.\u001b[39msin(phi1\u001b[38;5;241m+\u001b[39mphi2)],[l1\u001b[38;5;241m*\u001b[39mnp\u001b[38;5;241m.\u001b[39mcos(phi1)\u001b[38;5;241m+\u001b[39ml2\u001b[38;5;241m*\u001b[39mnp\u001b[38;5;241m.\u001b[39mcos(phi1\u001b[38;5;241m+\u001b[39mphi2), l2\u001b[38;5;241m*\u001b[39m\u001b[43mnp\u001b[49m\u001b[38;5;241;43m.\u001b[39;49m\u001b[43mcos\u001b[49m\u001b[43m(\u001b[49m\u001b[43mphi1\u001b[49m\u001b[43m,\u001b[49m\u001b[43mphi2\u001b[49m\u001b[43m)\u001b[49m]])\n\u001b[0;32m     13\u001b[0m     f \u001b[38;5;241m=\u001b[39m np\u001b[38;5;241m.\u001b[39marray([l1\u001b[38;5;241m*\u001b[39mnp\u001b[38;5;241m.\u001b[39mcos(phi1)\u001b[38;5;241m+\u001b[39ml2\u001b[38;5;241m*\u001b[39mnp\u001b[38;5;241m.\u001b[39mcos(phi1\u001b[38;5;241m+\u001b[39mphi2),[l1\u001b[38;5;241m*\u001b[39mnp\u001b[38;5;241m.\u001b[39msin(phi1)\u001b[38;5;241m+\u001b[39ml2\u001b[38;5;241m*\u001b[39mnp\u001b[38;5;241m.\u001b[39msin(phi1\u001b[38;5;241m+\u001b[39mphi2)]])\n\u001b[0;32m     14\u001b[0m     ATA \u001b[38;5;241m=\u001b[39m np\u001b[38;5;241m.\u001b[39mdot(J\u001b[38;5;241m.\u001b[39mT,J)\n",
      "\u001b[1;31mTypeError\u001b[0m: return arrays must be of ArrayType"
     ]
    }
   ],
   "source": [
    "\n",
    "# Newton Iteration\n",
    "tol = 0.001\n",
    "K =1000\n",
    "k =0\n",
    "def position_invers(phi1,phi2):\n",
    "    l2 =1\n",
    "    l1=2\n",
    "    k=0\n",
    "    J= np.zeros((2,2))\n",
    "    f = np.zeros(2)\n",
    "    x = np.zeros(2)\n",
    "    while k<K:\n",
    "        k = k+1\n",
    "        J = np.array([[ -l1*np.sin(phi1)-l2*np.sin(phi1+phi2), -l2*np.sin(phi1+phi2)],[l1*np.cos(phi1)+l2*np.cos(phi1+phi2), l2*np.cos(phi1,phi2)]])\n",
    "        f = np.array([l1*np.cos(phi1)+l2*np.cos(phi1+phi2),[l1*np.sin(phi1)+l2*np.sin(phi1+phi2)]])\n",
    "        ATA = np.dot(J.T,J)\n",
    "        ATB = np.dot(J.T,f) \n",
    "        x = np.linalg.solve(ATA,ATB)\n",
    "    \n",
    "\n",
    "\n",
    "\n",
    "    print(x)\n",
    "    return x\n",
    "\n",
    "\n",
    "\n",
    "\n",
    "    \n",
    "       \n",
    "position_invers(1,2)\n",
    "\n",
    "# Jacobean\n",
    "    \n",
    "        \n",
    "\n",
    "\n",
    "    \n",
    "\n",
    "\n",
    "\n",
    "\n",
    "    "
   ]
  }
 ],
 "metadata": {
  "kernelspec": {
   "display_name": "Python 3",
   "language": "python",
   "name": "python3"
  },
  "language_info": {
   "codemirror_mode": {
    "name": "ipython",
    "version": 3
   },
   "file_extension": ".py",
   "mimetype": "text/x-python",
   "name": "python",
   "nbconvert_exporter": "python",
   "pygments_lexer": "ipython3",
   "version": "3.11.8"
  }
 },
 "nbformat": 4,
 "nbformat_minor": 2
}
