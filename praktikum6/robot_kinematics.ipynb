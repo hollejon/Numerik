{
 "cells": [
  {
   "cell_type": "markdown",
   "metadata": {},
   "source": [
    "#Forewards Kinematics for a 2R robot\n"
   ]
  },
  {
   "cell_type": "code",
   "execution_count": 8,
   "metadata": {},
   "outputs": [
    {
     "name": "stdout",
     "output_type": "stream",
     "text": [
      "[0.09061212 1.82406198]\n"
     ]
    }
   ],
   "source": [
    "import numpy as np\n",
    "from matplotlib import pyplot as plt\n",
    "\n",
    "\n",
    "# foreward kinematics\n",
    "def position(phi1,phi2):\n",
    "    l1 =2\n",
    "    l2=1\n",
    "\n",
    "    pos = np.zeros(2) \n",
    "    pos[1] = l1*np.sin(phi1) + l2*np.sin(phi1+phi2)\n",
    "    pos[0] = l1*np.cos(phi1) + l2*np.cos(phi1+phi2)     \n",
    "    return pos\n",
    "\n",
    "\n",
    "print(position(1,2))    \n"
   ]
  },
  {
   "cell_type": "markdown",
   "metadata": {},
   "source": [
    "invers Kinematics"
   ]
  },
  {
   "cell_type": "code",
   "execution_count": null,
   "metadata": {},
   "outputs": [],
   "source": [
    "\n",
    "# Newton Iteration\n",
    "tol = 0.001\n",
    "K =1000\n",
    "k =0\n",
    "def position_invers(phi1,phi2):\n",
    "    l2 =1\n",
    "    l1=2\n",
    "    J = np.array([[ -l1*np.sin(phi1)-l2*np.sin(phi1+phi2), -l2*np.sin(phi1+phi2)],[l1*np.cos(phi1)+l2*np.cos(phi1+phi2), l2*np.cos(phi1,phi2)]])\n",
    "    f = np.array([l1*np.cos(phi1)+l2*np.cos(phi1+phi2),[l1*np.sin(phi1)+l2*np.sin(phi1+phi2)]])\n",
    "\n",
    "\n",
    "\n",
    "    while k in range(K):\n",
    "       \n",
    "\n",
    "\n",
    "# Jacobean\n",
    "    \n",
    "        \n",
    "\n",
    "\n",
    "    \n",
    "\n",
    "\n",
    "\n",
    "\n",
    "    l1 =2\n",
    "    l2=1\n",
    "\n",
    "\n",
    "\n",
    "\n",
    "\n",
    "    return phi1,phi2"
   ]
  }
 ],
 "metadata": {
  "kernelspec": {
   "display_name": "Python 3",
   "language": "python",
   "name": "python3"
  },
  "language_info": {
   "codemirror_mode": {
    "name": "ipython",
    "version": 3
   },
   "file_extension": ".py",
   "mimetype": "text/x-python",
   "name": "python",
   "nbconvert_exporter": "python",
   "pygments_lexer": "ipython3",
   "version": "3.11.8"
  }
 },
 "nbformat": 4,
 "nbformat_minor": 2
}
