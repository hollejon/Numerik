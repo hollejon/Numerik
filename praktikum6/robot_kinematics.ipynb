{
 "cells": [
  {
   "cell_type": "markdown",
   "metadata": {},
   "source": [
    "#Forewards Kinematics for a 2R robot\n"
   ]
  },
  {
   "cell_type": "code",
   "execution_count": null,
   "metadata": {},
   "outputs": [],
   "source": [
    "import numpy as np\n",
    "from matplotlib import pyplot as plt\n",
    "\n",
    "\n",
    "\n",
    "def position(phi1,phi2):\n",
    "    l1 =2\n",
    "    l2=1\n",
    "\n",
    "    pos = np.zeros((2,2)) \n",
    "    pos[0,0] = l1*np.sin(phi1) + l2*np.sin(phi1+phi2)\n",
    "    pos[0,1] = l1*np.cos(phi1) + l2*np.cos(phi1+phi2)     \n",
    "    print(pos)\n",
    "\n",
    "    return pos\n",
    "\n",
    "print(position(1,2))    "
   ]
  }
 ],
 "metadata": {
  "kernelspec": {
   "display_name": "Python 3",
   "language": "python",
   "name": "python3"
  },
  "language_info": {
   "codemirror_mode": {
    "name": "ipython",
    "version": 3
   },
   "file_extension": ".py",
   "mimetype": "text/x-python",
   "name": "python",
   "nbconvert_exporter": "python",
   "pygments_lexer": "ipython3",
   "version": "3.11.8"
  }
 },
 "nbformat": 4,
 "nbformat_minor": 2
}
