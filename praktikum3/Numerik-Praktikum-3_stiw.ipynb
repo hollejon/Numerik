{
 "cells": [
  {
   "cell_type": "markdown",
   "metadata": {},
   "source": [
    "# LU-Zerlegung für Tridiagonalmatrizen"
   ]
  },
  {
   "cell_type": "markdown",
   "metadata": {},
   "source": [
    "## Theorie und Ziele"
   ]
  },
  {
   "attachments": {},
   "cell_type": "markdown",
   "metadata": {},
   "source": [
    "Für *Tridiagonalmatrizen* lässt sich die *LU-Zerlegung* effizienter durchführen, als für vollbesetzte Matrizen. Solche Matrizen treten bei der numerischen Lösung von eindimensionalen Randwertproblemen (RWP) auf. Wir betrachten exemplarisch \n",
    "\n",
    "$$\n",
    "     -u''(x) = f(x), \\quad (0 < x < 1), \\qquad u(0) = u_0, u(1) = u_n\n",
    "$$\n",
    "\n",
    "für vorgegebene Randwerte $u_0, u_n$. Durch **Diskretisierung** lässt sich daraus ein LGS mit tridiagonaler Koeffizentenmatrix $A$ für die Stützwerte $u_i = u(x_i)$ gewinnen. Wir teilen dazu das Intervall $[0,1]$ in $n$ Intervalle der Länge $h>0$ an den Teilungspunkten $x_0 = 0, x_1 = x_0 + h, \\ldots, x_n = 1$. Daraus entsteht ein tridiagonales LGS $A u = b$ (s. Unterricht).\n",
    "\n",
    "**Ziel** des Praktikums ist es, die Algorithmen für Tridiagonalmatrizen zu implementieren und an einem Beispiel zu testen. Obwohl $A$ für die hier betrachtete Problemklasse immer gleich aussieht ($2$ auf der Hauptdiagonalen, $-1$ auf den zwei Nebendiagonalen) soll die LU-Zerlegung allgemein für Tridiagonalmatrizen umgesetzt werden.\n",
    "\n",
    "Da fast alle Einträge in $A$ verschwinden, wird die Matrix $A$ nicht als Matrix gespeichert, sondern nur die drei Diagonalen als Vektoren. *Eine* Möglichkeit besteht darin, eine $3 \\times n$ Matrix zu verwenden (aber es gibt natürlich viele andere Varianten):\n",
    "\n",
    "$$\n",
    "        M = \\begin{pmatrix} 0      & a_{21} & \\ldots & a_{n-1,n-2} & a_{n,n-1} \\\\\n",
    "                            a_{11} & a_{22} & \\ldots &  a_{n-1,n-1} & a_{nn} \\\\\n",
    "                            a_{12} & a_{23} & \\ldots &  a_{n-1,n} & 0 \\end{pmatrix}\n",
    "$$\n",
    "\n",
    "in diesem Fall gilt \n",
    "\n",
    "$$\n",
    " a_{j,j-1} = m_{1,j}, (2 \\leq j \\leq n) \\qquad a_{j,j} = m_{2,j}, (1 \\leq j \\leq n)\\qquad a_{j,j+1} = m_{3,j} , (1 \\leq j \\leq n-1)\n",
    "$$\n",
    "\n",
    "in Python ist zusätzlich zu berücksichtigen, dass die Indices bei $0$ starten. Das Resultat der Zerlegung ist ebenfalls tridiagonal und kann auf dieselbe Art gespeichert werden."
   ]
  },
  {
   "cell_type": "markdown",
   "metadata": {},
   "source": [
    "## Aufgaben"
   ]
  },
  {
   "cell_type": "markdown",
   "metadata": {},
   "source": [
    "Bemerkungen zu den Aufgaben:\n",
    "\n",
    "- Eventuell fällt Ihnen die Aufgabe 1 einfacher, wenn Sie den Algorithmus 2.6 zuerst für vollbesetzte Matrizen implementieren und danach für kompakt gespeicherte tridiagonal Matrizen optimieren.\n",
    "- Ebenso in der Aufgabe 2. Optimieren Sie erst danach die Summe, in dem Sie die Null Einträge bei tridiagonal Matrizen eliminieren."
   ]
  },
  {
   "cell_type": "markdown",
   "metadata": {},
   "source": [
    "### Aufgabe 1"
   ]
  },
  {
   "cell_type": "markdown",
   "metadata": {},
   "source": [
    "Implementieren Sie die LU-Zerlegung effizient für Tridiagonalmatrizen (Algorithmus 2.6). Sie dürfen die Schnittstelle anpassen, wenn Sie das sinnvoll finden."
   ]
  },
  {
   "cell_type": "code",
   "execution_count": 1,
   "metadata": {},
   "outputs": [],
   "source": [
    "import numpy as np\n",
    "\"\"\"\n",
    "LU decomposition for tridiagonal matrix\n",
    "in: a  =  [[0,      a_{21}, ..., a_{n-1,n-2}, a_{n,n-1}],\n",
    "           [a_{11}, a_{22}, ..., a_{n-1,n-1}, a_{nn}],\n",
    "           [a_{12}, a_{23}, ..., a_{n-1,n},   0]]\n",
    "\n",
    "out: LU = [[0,      l_{21}, ..., l_{n-1,n-2}, l_{n,n-1}],\n",
    "           [r_{11}, r_{22}, ..., r_{n-1,n-1}, r_{nn}],\n",
    "           [r_{12}, r_{23}, ..., r_{n-1,n},   0]]\n",
    "\"\"\"\n",
    "def LUT(m):\n",
    "\n",
    "\n",
    "    #test\n",
    "    # code\n",
    "    return LU"
   ]
  },
  {
   "cell_type": "markdown",
   "metadata": {},
   "source": [
    "Testen Sie Ihre Umsetzung. Der folgende Testcode funktioniert, falls die Tridiagonalmatrix wie in der Einleitung beschrieben gespeichert wurde."
   ]
  },
  {
   "cell_type": "code",
   "execution_count": 2,
   "metadata": {},
   "outputs": [
    {
     "ename": "NameError",
     "evalue": "name 'LU' is not defined",
     "output_type": "error",
     "traceback": [
      "\u001b[1;31m---------------------------------------------------------------------------\u001b[0m",
      "\u001b[1;31mNameError\u001b[0m                                 Traceback (most recent call last)",
      "Cell \u001b[1;32mIn[2], line 9\u001b[0m\n\u001b[0;32m      6\u001b[0m m[\u001b[38;5;241m0\u001b[39m][\u001b[38;5;241m0\u001b[39m], m[\u001b[38;5;241m-\u001b[39m\u001b[38;5;241m1\u001b[39m][\u001b[38;5;241m-\u001b[39m\u001b[38;5;241m1\u001b[39m] \u001b[38;5;241m=\u001b[39m \u001b[38;5;241m0\u001b[39m, \u001b[38;5;241m0\u001b[39m   \u001b[38;5;66;03m# nicht verwendete Einträge löschen\u001b[39;00m\n\u001b[0;32m      7\u001b[0m A \u001b[38;5;241m=\u001b[39m np\u001b[38;5;241m.\u001b[39mdiag(m[\u001b[38;5;241m0\u001b[39m][\u001b[38;5;241m1\u001b[39m:], k\u001b[38;5;241m=\u001b[39m\u001b[38;5;241m-\u001b[39m\u001b[38;5;241m1\u001b[39m) \u001b[38;5;241m+\u001b[39m np\u001b[38;5;241m.\u001b[39mdiag(m[\u001b[38;5;241m1\u001b[39m], k\u001b[38;5;241m=\u001b[39m\u001b[38;5;241m0\u001b[39m) \u001b[38;5;241m+\u001b[39m np\u001b[38;5;241m.\u001b[39mdiag(m[\u001b[38;5;241m2\u001b[39m][:\u001b[38;5;241m-\u001b[39m\u001b[38;5;241m1\u001b[39m], k\u001b[38;5;241m=\u001b[39m\u001b[38;5;241m1\u001b[39m) \u001b[38;5;66;03m# volle Matrix A erzeugen (nur für Test)\u001b[39;00m\n\u001b[1;32m----> 9\u001b[0m LU \u001b[38;5;241m=\u001b[39m \u001b[43mLUT\u001b[49m\u001b[43m(\u001b[49m\u001b[43mm\u001b[49m\u001b[43m)\u001b[49m\n\u001b[0;32m     11\u001b[0m L,U \u001b[38;5;241m=\u001b[39m np\u001b[38;5;241m.\u001b[39mdiag(LU[\u001b[38;5;241m0\u001b[39m][\u001b[38;5;241m1\u001b[39m:] , k\u001b[38;5;241m=\u001b[39m\u001b[38;5;241m-\u001b[39m\u001b[38;5;241m1\u001b[39m)\u001b[38;5;241m+\u001b[39m np\u001b[38;5;241m.\u001b[39midentity(n), np\u001b[38;5;241m.\u001b[39mdiag(LU[\u001b[38;5;241m1\u001b[39m], k\u001b[38;5;241m=\u001b[39m\u001b[38;5;241m0\u001b[39m) \u001b[38;5;241m+\u001b[39m np\u001b[38;5;241m.\u001b[39mdiag(LU[\u001b[38;5;241m2\u001b[39m][:\u001b[38;5;241m-\u001b[39m\u001b[38;5;241m1\u001b[39m], k\u001b[38;5;241m=\u001b[39m\u001b[38;5;241m1\u001b[39m) \u001b[38;5;66;03m# L, U Matrizen\u001b[39;00m\n\u001b[0;32m     12\u001b[0m \u001b[38;5;28;01massert\u001b[39;00m(np\u001b[38;5;241m.\u001b[39mlinalg\u001b[38;5;241m.\u001b[39mnorm(L\u001b[38;5;129m@U\u001b[39m\u001b[38;5;241m-\u001b[39mA) \u001b[38;5;241m<\u001b[39m \u001b[38;5;241m1e-10\u001b[39m)\n",
      "Cell \u001b[1;32mIn[1], line 17\u001b[0m, in \u001b[0;36mLUT\u001b[1;34m(m)\u001b[0m\n\u001b[0;32m     12\u001b[0m \u001b[38;5;28;01mdef\u001b[39;00m \u001b[38;5;21mLUT\u001b[39m(m):\n\u001b[0;32m     13\u001b[0m \n\u001b[0;32m     14\u001b[0m \n\u001b[0;32m     15\u001b[0m     \u001b[38;5;66;03m#test\u001b[39;00m\n\u001b[0;32m     16\u001b[0m     \u001b[38;5;66;03m# code\u001b[39;00m\n\u001b[1;32m---> 17\u001b[0m     \u001b[38;5;28;01mreturn\u001b[39;00m \u001b[43mLU\u001b[49m\n",
      "\u001b[1;31mNameError\u001b[0m: name 'LU' is not defined"
     ]
    }
   ],
   "source": [
    "import numpy as np\n",
    "n=5 # Grösse der Matrizen\n",
    "# test LUT\n",
    "for k in range(1000):\n",
    "    m = np.random.rand(3,n)     # Zufällige Matrix M erzeugen\n",
    "    m[0][0], m[-1][-1] = 0, 0   # nicht verwendete Einträge löschen\n",
    "    A = np.diag(m[0][1:], k=-1) + np.diag(m[1], k=0) + np.diag(m[2][:-1], k=1) # volle Matrix A erzeugen (nur für Test)\n",
    "    \n",
    "    LU = LUT(m)\n",
    "    \n",
    "    L,U = np.diag(LU[0][1:] , k=-1)+ np.identity(n), np.diag(LU[1], k=0) + np.diag(LU[2][:-1], k=1) # L, U Matrizen\n",
    "    assert(np.linalg.norm(L@U-A) < 1e-10)"
   ]
  },
  {
   "cell_type": "markdown",
   "metadata": {},
   "source": [
    "### Aufgabe 2"
   ]
  },
  {
   "cell_type": "markdown",
   "metadata": {},
   "source": [
    "Implementieren Sie die Vorwärts- und Rücksubstitution effizient für Tridiagonalmatrizen"
   ]
  },
  {
   "cell_type": "code",
   "execution_count": null,
   "metadata": {},
   "outputs": [],
   "source": [
    "\"\"\"\n",
    "in: LU (output from LUT), vector b\n",
    "out: vector x s.t. L@U@x == b\n",
    "\"\"\"  \n",
    "def fbSubsT(LU, b):\n",
    "    # code   \n",
    "    return x"
   ]
  },
  {
   "cell_type": "markdown",
   "metadata": {},
   "source": [
    "Testen Sie Ihre Umsetzung. Der folgende Testcode ist wiederum auf die oben beschriebene Speicherung der Matrizen ausgelegt."
   ]
  },
  {
   "cell_type": "code",
   "execution_count": null,
   "metadata": {},
   "outputs": [],
   "source": [
    "# test fbSubsT\n",
    "for k in range(1000):\n",
    "    m = np.random.rand(3,n) \n",
    "    m[0][0], m[-1][-1] = 0, 0\n",
    "    A = np.diag(m[0][1:], k=-1) + np.diag(m[1], k=0) + np.diag(m[2][:-1], k=1)\n",
    "    \n",
    "    x1 = np.random.rand(n)   # Lösungsvektor\n",
    "    b = A@x1                   # rechte Seite des LGS\n",
    "    \n",
    "    LU = LUT(m)\n",
    "    x2 = fbSubsT(LU, b)\n",
    "    \n",
    "    assert(np.linalg.norm(x1-x2) < 1e-10)"
   ]
  },
  {
   "cell_type": "markdown",
   "metadata": {},
   "source": [
    "### Aufgabe 3"
   ]
  },
  {
   "cell_type": "markdown",
   "metadata": {},
   "source": [
    "Wenden Sie die oben implementierten Algorithmen auf das in der Einleitung genannte RWP an, plotten Sie die numerische Lösung zusammen mit der exakten Lösung. Die tridiagonale Matrix des LGS ist nun gegeben durch die finite Differenzen Diskretisierung (Beispiel 2.6 im Skript)."
   ]
  },
  {
   "cell_type": "code",
   "execution_count": 14,
   "metadata": {},
   "outputs": [],
   "source": [
    "n = 100\n",
    "x = np.linspace(0,1,n+1)"
   ]
  },
  {
   "cell_type": "code",
   "execution_count": 10,
   "metadata": {},
   "outputs": [],
   "source": [
    "# Dirichlet Randwerte\n",
    "u0 = 0\n",
    "un = 0"
   ]
  },
  {
   "cell_type": "code",
   "execution_count": 28,
   "metadata": {},
   "outputs": [
    {
     "name": "stdout",
     "output_type": "stream",
     "text": [
      "[[0. 0. 0. 0. 0. 0. 0. 0. 0.]]\n",
      "9\n"
     ]
    }
   ],
   "source": [
    "# System Matrix\n",
    "A = np.zeros((3,n-1))\n",
    "\n",
    "b = np.ones((1,n-1))\n",
    "\n",
    "A[0,1:]     =\n",
    "A[1,:]      = \n",
    "A[2,:-1]    ="
   ]
  },
  {
   "cell_type": "markdown",
   "metadata": {},
   "source": [
    "Im Beispiel benutzen wir $f(x) = 1$."
   ]
  },
  {
   "cell_type": "code",
   "execution_count": null,
   "metadata": {},
   "outputs": [],
   "source": [
    "# Rechte Seite\n",
    "h = 1./n\n",
    "b = np.ones(1,n-1)\n",
    "b[0] = u0\n",
    "b[-1] = un"
   ]
  },
  {
   "cell_type": "markdown",
   "metadata": {},
   "source": [
    "Lösung berechnen und visualisieren:"
   ]
  },
  {
   "cell_type": "code",
   "execution_count": null,
   "metadata": {},
   "outputs": [],
   "source": [
    "import matplotlib.pyplot as plt\n",
    "\n",
    "LU = LUT(A)\n",
    "u = np.zeros((n+1))\n",
    "u[0] = u0;   # Randwert links\n",
    "u[-1] = un;  # Randwert rechts\n",
    "u[1:-1] = fbSubsT(LU, b)\n",
    "\n",
    "ue = -0.5*x*(x-1); # Loesung von u''(x) = 1, u(0) = u(1) = 0\n",
    "\n",
    "plt.plot(x, u)\n",
    "plt.plot(x, ue,'--')\n",
    "plt.grid()\n",
    "plt.show()"
   ]
  },
  {
   "cell_type": "markdown",
   "metadata": {},
   "source": [
    "### Abgabe"
   ]
  },
  {
   "cell_type": "markdown",
   "metadata": {},
   "source": [
    "- Aufgabe 1: Funktion zur Berechnung der LU-Zerlegung für tridiagonal Matrizen\n",
    "- Aufgabe 2: Funktion zum Lösen des Gleichungssystem mittels Vorwärts- / Rückwärtseinsetzen\n",
    "- Aufgabe 3: Anwendung auf ein eindimensionales Randwertproblem\n",
    "\n",
    "Kurzer Bericht mit den Ergebnisse und python Code als Textfile."
   ]
  }
 ],
 "metadata": {
  "kernelspec": {
   "display_name": "Python 3 (ipykernel)",
   "language": "python",
   "name": "python3"
  },
  "language_info": {
   "codemirror_mode": {
    "name": "ipython",
    "version": 3
   },
   "file_extension": ".py",
   "mimetype": "text/x-python",
   "name": "python",
   "nbconvert_exporter": "python",
   "pygments_lexer": "ipython3",
   "version": "3.11.7"
  },
  "nbsphinx": {
   "execute": "never"
  }
 },
 "nbformat": 4,
 "nbformat_minor": 4
}
