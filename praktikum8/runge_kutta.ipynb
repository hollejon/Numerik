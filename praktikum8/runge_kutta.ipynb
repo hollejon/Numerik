{
 "cells": [
  {
   "cell_type": "markdown",
   "metadata": {},
   "source": [
    "Numerical Methods RK "
   ]
  },
  {
   "cell_type": "markdown",
   "metadata": {},
   "source": [
    "# Explicite euler"
   ]
  },
  {
   "cell_type": "code",
   "execution_count": 1,
   "metadata": {},
   "outputs": [],
   "source": [
    "import numpy as np\n",
    "import matplotlib.pyplot as plt\n",
    "\n",
    "\n",
    "\n"
   ]
  },
  {
   "cell_type": "code",
   "execution_count": null,
   "metadata": {},
   "outputs": [],
   "source": []
  },
  {
   "cell_type": "markdown",
   "metadata": {},
   "source": [
    "# Euler implizite"
   ]
  },
  {
   "cell_type": "code",
   "execution_count": 2,
   "metadata": {},
   "outputs": [],
   "source": [
    "def newton_implizitEuler(xend,x0,y0,h,n,tol):\n",
    "\n",
    "    \n",
    "    \n",
    "    def f (x,y):\n",
    "        return y-x**2/(y)\n",
    "    def df(x,y):\n",
    "        return x**2/(y**2)\n",
    "   \n",
    "    x = np.zeros(xend)\n",
    "    y = np.zeros(xend)\n",
    "    k=f (x0,y0)\n",
    "\n",
    "\n",
    "\n",
    "    for i in range(n):\n",
    "        x[i]= x[i-1]+h\n",
    "        r = k-f(x[i-1]+h,y[i-1]+h*k)\n",
    "\n",
    "        while np.abs(r) > tol:\n",
    "            j = df(x[i-1]+h,y[i-1]+h*k)\n",
    "            delta_k = -r/(1-h*j)\n",
    "            k = k+delta_k\n",
    "            r = k-f(x[i-1]+h,y[i-1]+h*k)\n",
    "\n",
    "    y[i]=y[i-1]+h*k\n",
    "\n",
    "\n",
    "\n",
    "    return x,y\n",
    "\n",
    "x,y = newton_implizitEuler(2,0,1,0.1,100,1e-3)\n",
    "\n",
    "plt.plot(x,y)\n",
    "\n"
   ]
  }
 ],
 "metadata": {
  "kernelspec": {
   "display_name": "Python 3",
   "language": "python",
   "name": "python3"
  },
  "language_info": {
   "codemirror_mode": {
    "name": "ipython",
    "version": 3
   },
   "file_extension": ".py",
   "mimetype": "text/x-python",
   "name": "python",
   "nbconvert_exporter": "python",
   "pygments_lexer": "ipython3",
   "version": "3.11.8"
  }
 },
 "nbformat": 4,
 "nbformat_minor": 2
}
