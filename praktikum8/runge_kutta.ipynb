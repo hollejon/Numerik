{
 "cells": [
  {
   "cell_type": "markdown",
   "metadata": {},
   "source": [
    "Numerical Methods RK "
   ]
  },
  {
   "cell_type": "markdown",
   "metadata": {},
   "source": [
    "# Explicite euler"
   ]
  },
  {
   "cell_type": "code",
   "execution_count": null,
   "metadata": {},
   "outputs": [],
   "source": [
    "import numpy as np\n",
    "import matplotlib.pyplot as plt\n",
    "\n",
    "\n",
    "def explizitEuler(xend, h, x0, y0, f):\n",
    "x = [x0]\n",
    "y = [y0]\n",
    "\n",
    "while x[-1] < xend-h/2:\n",
    "\n",
    "<<snipp>>\n",
    "\n",
    "return np.array(x), np.array(y)"
   ]
  },
  {
   "cell_type": "code",
   "execution_count": null,
   "metadata": {},
   "outputs": [],
   "source": [
    "n = 10**np.linspace(2,5)\n",
    "hs = 2/n\n",
    "err = []\n",
    "for h in hs:\n",
    "x, y = explizitEuler(2,h,0,1,f)\n",
    "err.append(np.linalg.norm(y-ya(x),np.inf)) # ya(x) ist die exakte Lösung\n",
    "\n",
    "plt.loglog(hs,err,'-')\n",
    "plt.xlabel('h')\n",
    "plt.ylabel(r'$\\max_k \\|e(x_k,h)\\|$')\n",
    "plt.grid()\n",
    "plt.show()\n"
   ]
  }
 ],
 "metadata": {
  "kernelspec": {
   "display_name": "Python 3",
   "language": "python",
   "name": "python3"
  },
  "language_info": {
   "name": "python",
   "version": "3.11.8"
  }
 },
 "nbformat": 4,
 "nbformat_minor": 2
}
