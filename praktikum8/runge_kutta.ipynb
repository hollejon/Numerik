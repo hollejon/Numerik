{
 "cells": [
  {
   "cell_type": "markdown",
   "metadata": {},
   "source": [
    "Numerical Methods RK "
   ]
  },
  {
   "cell_type": "markdown",
   "metadata": {},
   "source": [
    "# Explicite euler"
   ]
  },
  {
   "cell_type": "code",
   "execution_count": 21,
   "metadata": {},
   "outputs": [],
   "source": [
    "import numpy as np\n",
    "import matplotlib.pyplot as plt\n",
    "\n",
    "\n",
    "\n"
   ]
  },
  {
   "cell_type": "code",
   "execution_count": null,
   "metadata": {},
   "outputs": [],
   "source": []
  },
  {
   "cell_type": "markdown",
   "metadata": {},
   "source": [
    "# Euler implizite"
   ]
  },
  {
   "cell_type": "code",
   "execution_count": 22,
   "metadata": {},
   "outputs": [
    {
     "ename": "TypeError",
     "evalue": "newton_implizitEuler() takes 5 positional arguments but 6 were given",
     "output_type": "error",
     "traceback": [
      "\u001b[1;31m---------------------------------------------------------------------------\u001b[0m",
      "\u001b[1;31mTypeError\u001b[0m                                 Traceback (most recent call last)",
      "Cell \u001b[1;32mIn[22], line 32\u001b[0m\n\u001b[0;32m     26\u001b[0m         y[i]\u001b[38;5;241m=\u001b[39my[i\u001b[38;5;241m-\u001b[39m\u001b[38;5;241m1\u001b[39m]\u001b[38;5;241m+\u001b[39mh\u001b[38;5;241m*\u001b[39mk\n\u001b[0;32m     30\u001b[0m     \u001b[38;5;28;01mreturn\u001b[39;00m x,y\n\u001b[1;32m---> 32\u001b[0m x,y \u001b[38;5;241m=\u001b[39m \u001b[43mnewton_implizitEuler\u001b[49m\u001b[43m(\u001b[49m\u001b[38;5;241;43m2\u001b[39;49m\u001b[43m,\u001b[49m\u001b[38;5;241;43m-\u001b[39;49m\u001b[38;5;241;43m4\u001b[39;49m\u001b[43m,\u001b[49m\u001b[38;5;241;43m0\u001b[39;49m\u001b[43m,\u001b[49m\u001b[38;5;241;43m1\u001b[39;49m\u001b[43m,\u001b[49m\u001b[38;5;241;43m100\u001b[39;49m\u001b[43m,\u001b[49m\u001b[38;5;241;43m1e-3\u001b[39;49m\u001b[43m)\u001b[49m\n\u001b[0;32m     34\u001b[0m plt\u001b[38;5;241m.\u001b[39mplot(x,y)\n",
      "\u001b[1;31mTypeError\u001b[0m: newton_implizitEuler() takes 5 positional arguments but 6 were given"
     ]
    }
   ],
   "source": [
    "def newton_implizitEuler(xend,x0,y0,n,tol):\n",
    "     \n",
    "    \n",
    "    h= (xend-x0)/n\n",
    "    def f (x,y):\n",
    "        return (-x**2)/(y)\n",
    "    def df(x,y):\n",
    "        return (x**2)/(y**2)\n",
    "   \n",
    "    x = np.zeros(n)\n",
    "    y = np.zeros(n)\n",
    "    k=f (x0,y0)\n",
    "\n",
    "\n",
    "\n",
    "    for i in range(0,n-1):\n",
    "        x[i]= x[i-1]+h\n",
    "        r = k-f(x[i-1]+h,y[i-1]+h*k)\n",
    "\n",
    "        while np.abs(r) > tol:\n",
    "            j = df(x[i-1]+h,y[i-1]+h*k)\n",
    "            delta_k = -r/(1-h*j)\n",
    "            k = k+delta_k\n",
    "            r = k-f(x[i-1]+h,y[i-1]+h*k)\n",
    "\n",
    "        y[i]=y[i-1]+h*k\n",
    "\n",
    "\n",
    "\n",
    "    return x,y\n",
    "\n",
    "x,y = newton_implizitEuler(2,-4,0.1,100,1e-3)\n",
    "\n",
    "plt.plot(x,y)\n",
    "\n"
   ]
  }
 ],
 "metadata": {
  "kernelspec": {
   "display_name": "Python 3",
   "language": "python",
   "name": "python3"
  },
  "language_info": {
   "codemirror_mode": {
    "name": "ipython",
    "version": 3
   },
   "file_extension": ".py",
   "mimetype": "text/x-python",
   "name": "python",
   "nbconvert_exporter": "python",
   "pygments_lexer": "ipython3",
   "version": "3.11.8"
  }
 },
 "nbformat": 4,
 "nbformat_minor": 2
}
