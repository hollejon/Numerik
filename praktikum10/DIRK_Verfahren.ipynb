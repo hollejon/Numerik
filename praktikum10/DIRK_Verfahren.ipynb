{
 "cells": [
  {
   "cell_type": "markdown",
   "metadata": {},
   "source": [
    "Diagonal-Implizite-Runge_Kutta verfahren"
   ]
  },
  {
   "cell_type": "code",
   "execution_count": null,
   "metadata": {},
   "outputs": [],
   "source": [
    "import numpy as np\n",
    "import matplotlib.pyplot as plt\n",
    "\n",
    "\n",
    "\n",
    "\n",
    "\n",
    "\n",
    "\n",
    "\n",
    "def RK_implizit(x0, X, N, f, df, tol):\n",
    "    # x0: Startpunkt\n",
    "    # X: Endpunkt\n",
    "    # f: Funktion\n",
    "    # df: Jacobi Matrix der Funktion f\n",
    "    # N: Anzahl der Schritte\n",
    "    # tol: Toleranz\n",
    "    max_iter=20\n",
    "\n",
    "    h= (X-x0[0])/N\n",
    "    N = N+1\n",
    "    #print( \"IMP: Schrittweite: \", h)\n",
    "    x = np.zeros(N)\n",
    "    y = np.zeros(N)\n",
    "    x[0] = x0[0]\n",
    "    y[0] = x0[1]\n",
    "\n",
    "    #Anfangspunkt berechnen\n",
    "    k = f(x[0],y[0])\n",
    "\n",
    "    for i in range(1,N):\n",
    "        step = 0\n",
    "        x[i] = x[i-1] + h\n",
    "        r = k - f(x[i-1] + h, y[i-1] + (h*k))\n",
    "\n",
    "        while np.abs(r) > tol and step < max_iter:\n",
    "            j = df(x[i-1] + h, y[i-1] + (h*k))\n",
    "            delta_k = -r / (1 - (h*j))\n",
    "            k = k + delta_k\n",
    "            r = k - f(x[i-1] + h, y[i-1] + (h*k))\n",
    "            step += 1\n",
    "\n",
    "        y[i] = y[i-1] + (h*k)\n",
    "\n",
    "    return x,y\n",
    "\n",
    "\n",
    "\n",
    "\n",
    "\n"
   ]
  }
 ],
 "metadata": {
  "kernelspec": {
   "display_name": ".venv",
   "language": "python",
   "name": "python3"
  },
  "language_info": {
   "name": "python",
   "version": "3.11.8"
  }
 },
 "nbformat": 4,
 "nbformat_minor": 2
}
