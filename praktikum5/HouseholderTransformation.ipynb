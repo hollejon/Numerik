{
 "cells": [
  {
   "cell_type": "markdown",
   "metadata": {},
   "source": [
    "# Householder-Transformation schrittweise"
   ]
  },
  {
   "cell_type": "code",
   "execution_count": 1,
   "metadata": {},
   "outputs": [],
   "source": [
    "import numpy as np\n",
    "from numpy.linalg import norm"
   ]
  },
  {
   "cell_type": "markdown",
   "metadata": {},
   "source": [
    "Die allgemeine Schreibweise der Householder-Transformation für einen beliebigen Vektor $w$ ist gegeben durch\n",
    "\\begin{equation}\\label{eq:householdertransformation}H(w) = \\text{id} - 2\\,\\frac{w\\cdot w^T}{\\langle w, w\\rangle}\n",
    "\\end{equation}\n",
    "wobei $w\\cdot w^T$ das Kroneckerprodukt\n",
    "$$w\\cdot w^T = (w_i\\,w_j)_{i,j=1\\ldots m}\\in\\mathbb{R}^{m\\times m}$$\n",
    "sei."
   ]
  },
  {
   "cell_type": "code",
   "execution_count": 9,
   "metadata": {},
   "outputs": [],
   "source": [
    "# Selber implementieren\n",
    "def HouseholderTransformation(w):\n",
    "    Im = np.eye((len(w)))\n",
    "    x = w[:,0]\n",
    "    x_norm = norm(x)\n",
    "    sgn = mysign(w[0,0])\n",
    "    e_1 = e(len(w))\n",
    "\n",
    "    v = x + (sgn * x_norm) * e_1\n",
    "\n",
    "    #print(\"Erster Vektor: \", x, x_norm, \"\\tSGN: \",sgn, w[0,0], \"e1: \", e_1, v)\n",
    "\n",
    "    v_t_v = v.T @ v\n",
    "    v_v_t = np.outer(v,v) # v mal v.T rechnen\n",
    "    #print(\"V: \",np.absolute(w))\n",
    "\n",
    "    H = Im - ((2* v_v_t) /  v_t_v)\n",
    "    #print(\"Im: \", Im)\n",
    "    #print(v_t_v, v_v_t)\n",
    "    #print(\"H:\", H)\n",
    "    return H\n"
   ]
  },
  {
   "cell_type": "markdown",
   "metadata": {},
   "source": [
    "Gesucht ist der geeignete Normalenvektor so, dass der gespiegelte Spaltenvektor auf die $e_1$ Achse zu liegen kommt. Sei mit $y$ der Spaltenvektor bezeichnet, so kann man zeigen (siehe Skript), dass der Vektor\n",
    "\\begin{equation}\n",
    "w = y \\pm \\|y\\|_2 e_1\n",
    "\\end{equation}\n",
    "die gewünschte Eigenschaft hat. Um **Auslöschung** in der Berechnung von $w$ zu vermeiden, wählt man\n",
    "\\begin{equation}\n",
    "w = y + \\text{sign}(y_1) \\|y\\|_2 e_1\n",
    "\\end{equation}\n",
    "mit\n",
    "\\begin{equation}\n",
    "\\text{sign}(s) = \\begin{cases} 1 & \\quad \\text{für} s \\ge 0\\\\ -1 & \\quad \\text{sonst}.\\end{cases}\n",
    "\\end{equation}"
   ]
  },
  {
   "cell_type": "code",
   "execution_count": 3,
   "metadata": {},
   "outputs": [],
   "source": [
    "def mysign(x): # numpy sign liefert 0 für 0\n",
    "    if x >= 0:\n",
    "        return 1\n",
    "    else:\n",
    "        return -1"
   ]
  },
  {
   "cell_type": "markdown",
   "metadata": {},
   "source": [
    "Funktion für den n-dimensionalen Einheitsvektor"
   ]
  },
  {
   "cell_type": "code",
   "execution_count": 4,
   "metadata": {},
   "outputs": [],
   "source": [
    "def e(n):\n",
    "    return np.array([1]+[0 for k in range(n-1)])"
   ]
  },
  {
   "cell_type": "markdown",
   "metadata": {},
   "source": [
    "Mit Hilfe der Householder-Transformation soll nun die Matrix $A$ in eine orthogonale Matrix $Q$ und reguläre obere Dreiecksmatrix $R$ zerlegt werden. Im Beispiel wählen wir eine zufällige Matrix $A \\in \\mathbb{R}^{10\\times5}$."
   ]
  },
  {
   "cell_type": "code",
   "execution_count": 7,
   "metadata": {},
   "outputs": [],
   "source": [
    "A = np.array([[-1,  7, -8, -9,  6],\n",
    "       [-6, -8,  0,  3,  8],\n",
    "       [-4, -2,  8,  0, -2],\n",
    "       [-1, -9,  4, -8,  2],\n",
    "       [-3, -5, -5,  7, -4],\n",
    "       [-7, -4,  7, -1,  5],\n",
    "       [-9, -7,  6, -5, -8],\n",
    "       [-4, -3, -5,  3, -6],\n",
    "       [ 5,  7,  5, -4, -5],\n",
    "       [ 4, -6, -8, -2, -5]],dtype=float)\n",
    "m,n = A.shape\n",
    "A2 = A.copy()"
   ]
  },
  {
   "cell_type": "markdown",
   "metadata": {},
   "source": [
    "### Householder Transformation, Alle Spalten"
   ]
  },
  {
   "cell_type": "markdown",
   "metadata": {},
   "source": [
    "Wir automatisieren nun den Prozess und überschreiben die Submatrizen der Matrix $A_1$ sukzessive:"
   ]
  },
  {
   "cell_type": "code",
   "execution_count": 10,
   "metadata": {},
   "outputs": [
    {
     "name": "stdout",
     "output_type": "stream",
     "text": [
      "Spalte 1\n",
      "Spalte 2\n",
      "Spalte 3\n",
      "Spalte 4\n",
      "R: [[-15.81 -11.83   6.51   0.63   1.26]\n",
      " [ -0.   -15.56  -1.42   1.83  -3.08]\n",
      " [  0.    -0.    17.99  -2.92  -0.92]\n",
      " [ -0.    -0.    -0.   -15.68   1.59]\n",
      " [  0.    -0.     0.     0.    -5.77]\n",
      " [  0.    -0.    -0.    -0.     3.39]\n",
      " [  0.    -0.    -0.    -0.   -11.31]\n",
      " [  0.    -0.     0.     0.    -8.27]\n",
      " [ -0.     0.     0.    -0.    -1.97]\n",
      " [  0.     0.     0.     0.    -6.29]]\n",
      "Q: [[-1. -0. -0. -0.  0.  0.  0.  0. -0. -0.]\n",
      " [ 0. -1.  0.  0. -0. -0. -0. -0.  0.  0.]\n",
      " [ 0. -0. -1. -0. -0.  0.  0. -0.  0. -0.]\n",
      " [ 0. -0.  0. -1.  0. -0. -0.  0. -0.  0.]\n",
      " [ 0. -0. -0.  0.  1.  0. -0. -0.  0. -0.]\n",
      " [ 0. -0.  0. -0.  0.  1. -0.  0.  0.  0.]\n",
      " [ 0. -0.  0. -0. -0. -0.  1. -0.  0.  0.]\n",
      " [ 0. -0. -0.  0. -0.  0. -0.  1.  0. -0.]\n",
      " [-0.  0.  0. -0.  0.  0.  0.  0.  1.  0.]\n",
      " [-0.  0. -0.  0. -0.  0.  0. -0.  0.  1.]]\n",
      "Q*R: [[ 15.81  11.83  -6.51  -0.63  -1.26]\n",
      " [ -0.    15.56   1.42  -1.83   3.08]\n",
      " [ -0.     0.   -17.99   2.92   0.92]\n",
      " [ -0.    -0.     0.    15.68  -1.59]\n",
      " [ -0.     0.    -0.    -0.    -5.77]\n",
      " [ -0.    -0.     0.    -0.     3.39]\n",
      " [ -0.    -0.     0.    -0.   -11.31]\n",
      " [ -0.    -0.    -0.     0.    -8.27]\n",
      " [  0.    -0.     0.     0.    -1.97]\n",
      " [  0.    -0.    -0.    -0.    -6.29]]\n",
      "Loesung\n",
      "[[-0.06  0.5   0.51 -0.61  0.17]\n",
      " [-0.38 -0.23  0.12  0.13  0.49]\n",
      " [-0.25  0.06 -0.35  0.06 -0.12]\n",
      " [-0.06 -0.53 -0.24 -0.53  0.17]\n",
      " [-0.19 -0.18  0.33  0.36 -0.2 ]\n",
      " [-0.44  0.08 -0.22 -0.03  0.26]\n",
      " [-0.57 -0.02 -0.13 -0.32 -0.54]\n",
      " [-0.25 -0.    0.37  0.11 -0.38]\n",
      " [ 0.32  0.21 -0.38 -0.15 -0.3 ]\n",
      " [ 0.25 -0.58  0.31 -0.24 -0.21]] [[ 15.81  11.83  -6.51  -0.63  -1.26]\n",
      " [  0.    15.56   1.42  -1.83   3.08]\n",
      " [  0.     0.   -17.99   2.92   0.92]\n",
      " [  0.     0.     0.    15.68  -1.59]\n",
      " [  0.     0.     0.     0.    16.87]]\n",
      "L: Q*R: [[-1.  7. -8. -9.  6.]\n",
      " [-6. -8. -0.  3.  8.]\n",
      " [-4. -2.  8. -0. -2.]\n",
      " [-1. -9.  4. -8.  2.]\n",
      " [-3. -5. -5.  7. -4.]\n",
      " [-7. -4.  7. -1.  5.]\n",
      " [-9. -7.  6. -5. -8.]\n",
      " [-4. -3. -5.  3. -6.]\n",
      " [ 5.  7.  5. -4. -5.]\n",
      " [ 4. -6. -8. -2. -5.]]\n"
     ]
    }
   ],
   "source": [
    "Q = np.eye((m))\n",
    "#print(A1)\n",
    "\n",
    "\n",
    "for k in range(0,n-1):\n",
    "    print('Spalte '+str(k+1))\n",
    "    w = A[k:,k:]\n",
    "    #print(\"Hypermatrix: \", w)\n",
    "    Qk = HouseholderTransformation(w)\n",
    "    #print(Qk)\n",
    "    A[k:,k:] = Qk@A[k:,k:]\n",
    "    H_j = np.eye((m))\n",
    "    H_j[k:,k:] = Qk\n",
    "    Q = H_j@Q\n",
    "    #print(\"R:\", np.round(A,4))\n",
    "\n",
    "\n",
    "print(\"R:\", np.round(A,2))\n",
    "print(\"Q:\", np.round(Q,2).T)\n",
    "print(\"Q*R:\", np.round(Q.T @ A,2))\n",
    "\n",
    "\n",
    "Q,R = np.linalg.qr(A2)\n",
    "\n",
    "print(\"Loesung\")\n",
    "print(np.round(Q,2), np.round(R,2))\n",
    "print(\"L: Q*R:\", np.round(Q.dot(R),2))"
   ]
  },
  {
   "cell_type": "markdown",
   "metadata": {},
   "source": [
    "### Q, R berechnen"
   ]
  },
  {
   "cell_type": "markdown",
   "metadata": {},
   "source": [
    "- Berechnen sie abschliessend $Q,R$ so, dass $Q\\cdot R = A$ gilt.\n",
    "- Vergleichen Sie Ihr Resultat mit der Funktion von NumPy."
   ]
  },
  {
   "cell_type": "code",
   "execution_count": 14,
   "metadata": {},
   "outputs": [],
   "source": [
    "Q,R = np.linalg.qr(A2)"
   ]
  },
  {
   "cell_type": "code",
   "execution_count": 15,
   "metadata": {},
   "outputs": [
    {
     "data": {
      "text/plain": [
       "(10, 5)"
      ]
     },
     "execution_count": 15,
     "metadata": {},
     "output_type": "execute_result"
    }
   ],
   "source": [
    "Q.shape"
   ]
  },
  {
   "cell_type": "code",
   "execution_count": 16,
   "metadata": {},
   "outputs": [
    {
     "data": {
      "text/plain": [
       "(5, 5)"
      ]
     },
     "execution_count": 16,
     "metadata": {},
     "output_type": "execute_result"
    }
   ],
   "source": [
    "R.shape"
   ]
  },
  {
   "cell_type": "markdown",
   "metadata": {},
   "source": [
    "Frage: Warum reicht diese reduzierte $Q$ und $R$ Matrix?"
   ]
  },
  {
   "cell_type": "markdown",
   "metadata": {},
   "source": [
    "Die letzte Spalte der R-Matrix  ist die einzige welche ab zeile 5 noch einträge hat.\n",
    "Diese Einträge ,ab Zeile 5, können zusammengefasst werden und in Xn,n gespeichert werden.\n",
    "Für die Matrix Q gilt alle Einträge ab Spalte 5 können zusammengefasst werden."
   ]
  }
 ],
 "metadata": {
  "kernelspec": {
   "display_name": "Python 3",
   "language": "python",
   "name": "python3"
  },
  "language_info": {
   "codemirror_mode": {
    "name": "ipython",
    "version": 3
   },
   "file_extension": ".py",
   "mimetype": "text/x-python",
   "name": "python",
   "nbconvert_exporter": "python",
   "pygments_lexer": "ipython3",
   "version": "3.11.8"
  },
  "nbsphinx": {
   "execute": "never"
  }
 },
 "nbformat": 4,
 "nbformat_minor": 4
}
